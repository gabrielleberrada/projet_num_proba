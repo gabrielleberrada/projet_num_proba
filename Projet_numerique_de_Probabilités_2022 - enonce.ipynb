{
 "cells": [
  {
   "cell_type": "markdown",
   "metadata": {},
   "source": [
    "# Projet numérique de probabilités \n",
    "\n",
    "## Préambule\n",
    "\n",
    "Dans ce projet, on va chercher à développer un algorithme permettant de générer des textures aléatoires reprenant certaines caractéristiques du mouvement brownien.\n",
    "Dans un premier temps, on va s'intéresser à construire le mouvement brownien en une dimension comme limite d'une marche aléatoire. On verra ensuite une construction alternative qui permettra de conserver certaines de ses propriétés puis on la généralisera à 2 dimensions.\n"
   ]
  },
  {
   "cell_type": "markdown",
   "metadata": {},
   "source": [
    "# Marche aléatoire\n",
    "\n",
    "Soit $(X_i)_{i\\in \\mathbb{N}^\\ast}$ une suite de variables aléatoires indépendantes telle que :\n",
    "\n",
    "$$\\mathbb{P}(X_i=x) = \\left\\{\\begin{array}{ll}\n",
    "\\frac{1}{2} & \\text{ si } x=1\\\\\n",
    "\\frac{1}{2} & \\text{ si } x=-1\\\\\n",
    "\\end{array}\\right.\n",
    "\\forall i\\geq 1$$\n",
    "\n",
    "On considère la suite $(Y_n)_{n \\in \\mathbb{N}}$, où $Y_0 = 0$ et \n",
    "$$Y_n=\\sum_{i=1}^{n}X_i$$\n"
   ]
  },
  {
   "cell_type": "markdown",
   "metadata": {},
   "source": [
    "1. Calculer l'espérance et la variance de $X_i$.\n",
    "2. En déduire l'espérance et la variance de $Y_n$.\n",
    "3. Montrer que $\\forall n \\in \\mathbb{N}$, $\\mathbb{P}_{Y_n|Y_{n-1} = y_{n-1}, \\ldots, Y_{0} = y_{0}} = \\mathbb{P}_{Y_n|Y_{n-1} = y_{n-1}}$. On dit que la suite $(Y_n)_{n \\in \\mathbb{N}}$ possède la propriété de Markov.\n",
    "4. Montrer que $\\mathrm{Cov}(Y_n,Y_{n'}) = \\min(n,n')$ puis que $\\frac12\\mathbb{E}\\left((Y_n-Y_{n+h})^2\\right) = h/2$, pour $h>0$. Cette dernière quantité s'appelle le variogramme de $Y_n$ et peut s'interpréter comme une quantification de sa régularité.\n",
    "5. Utiliser le théorème central limite pour montrer que\n",
    "  $$\\frac{Y_n}{\\sqrt{n}}\\xrightarrow[n \\to \\infty]{\\mathcal{L}}\\mathcal{N}(0,1),$$\n"
   ]
  },
  {
   "cell_type": "markdown",
   "metadata": {},
   "source": [
    "**Réponses**\n",
    "\n",
    "1. Soit $i \\in \\mathbb{N}^*$.\n",
    "\n",
    "$\\ X_i$ prend un nombre fini de valeurs, elle est donc intégrable et de carré intégrable, ce qui justifie l'existence de son espérance et de sa variance.\n",
    "\n",
    "On a : $$\\mathbb{E}(X_i) = \\sum_{x \\in X(\\Omega)} x \\ \\mathbb{P}(X_i=x) = 1 \\times \\frac{1}{2} + \\ (-1) \\times \\frac{1}{2} = 0.$$\n",
    "\n",
    "Et $$\\mathbb{V}(X_i) = \\mathbb{E}(X_i^2) - \\mathbb{E}(X_i)^2 = \\sum_{x \\in X(\\Omega)} x^2 \\ \\mathbb{P}(X_i=x) = 1 \\times \\frac{1}{2} + 1 \\times \\frac{1}{2} = 1.$$"
   ]
  },
  {
   "cell_type": "markdown",
   "metadata": {},
   "source": [
    "2. Soit $n \\in \\mathbb{N}^*$.\n",
    "\n",
    "$Y_n$ est de carré intégrable comme somme finie de variables aléatoires de carré intégrable, ce qui justifie l'existence de son espérance et de sa variance.\n",
    "\n",
    "On a donc, par indépendance des $(X_i)$:\n",
    "$$\\mathbb{E}(Y_n) = \\sum_{i=1}^n \\mathbb{E}(X_i) = 0$$\n",
    "\n",
    "Et: $$\\mathbb{V}(Y_n) = \\sum_{i=1}^n \\mathbb{V}(X_i) = n = \\mathbb{E}(Y_n^2).$$"
   ]
  },
  {
   "cell_type": "markdown",
   "metadata": {},
   "source": [
    "3. Soit $n \\in \\mathbb N$ et $(y_0, \\ldots, y_n) \\in \\mathbb{R}^n$. \n",
    "\n",
    "Remarquons déjà que $\\forall i \\in \\{1, \\ldots, n-1 \\}, \\ X_n$ et $Y_i$ sont indépendantes :\n",
    "\n",
    "Soit $i \\in \\{1, \\ldots, n-1\\}$. \n",
    "$f:(y_0, \\ldots, y_i) \\mapsto \\sum_{j=0}^{i} y_i$ est mesurable et déterministe et $X_n$ et $(X_0, \\ldots, X_i)$ sont indépendantes par coalition. Donc, par transfert d'indépendance, on en déduit l'indépendance de $X_n$ et $Y_i$, qui fournit ensuite l'indépendance de $X_n$ avec $(Y_i)_{1 \\leq i \\leq n-1}$ par coalition.\n",
    "\n",
    "On a ensuite :\n",
    "\\begin{align*}\n",
    "\\mathbb{P}(Y_n = y_n|Y_{n-1} = y_{n-1}, \\ldots, Y_{0} = y_{0})\n",
    "    &= \\mathbb{P}(X_n = y_n-y_{n-1}|Y_{n-1} = y_{n-1}, \\ldots, Y_{0} = y_{0}) \\\\\n",
    "    &= \\mathbb{P}(X_n = y_n-y_{n-1}) \\text{ par indépendance de } X_n \\text{ avec } (Y_i)_{1 \\leq i \\leq n-1} \\\\\n",
    "\\end{align*}\n",
    "\n",
    "Et par indépendance de $X_n$ et $Y_{n-1}$ :\n",
    "\n",
    "$$\\mathbb{P}(Y_n = y_n|Y_{n-1} = y_{n-1}) = \\mathbb{P}(X_n = y_n - y_{n-1}|Y_{n-1} = y_{n-1}) = \\mathbb{P}(X_n = y_n - y_{n-1}).$$\n",
    "\n",
    "D'où : $$\\boxed{\\mathbb{P}(Y_n = y_n|Y_{n-1} = y_{n-1}) = \\mathbb{P}(Y_n = y_n|Y_{n-1} = y_{n-1}, \\ldots, Y_{0} = y_{0})}$$\n"
   ]
  },
  {
   "cell_type": "markdown",
   "metadata": {},
   "source": [
    "4. Soit $(n, n') \\in (\\mathbb{N}^*)^2$.\n",
    "\n",
    "\\begin{align*}\n",
    "Cov(Y_n, Y_{n-1}) \n",
    "        &= \\mathbb{E}((Y_n - \\mathbb{E}(Y_n))(Y_{n'} - \\mathbb{E}(Y_{n'}))) \\\\\n",
    "        &= \\mathbb{E}(Y_nY_{n'}) - \\mathbb{E}(Y_n)\\mathbb{E}(Y_{n'})\\\\\n",
    "        &= \\mathbb{E}(Y_nY_{n'})\n",
    "\\end{align*}\n",
    "\n",
    "Or\n",
    "\\begin{align*}\n",
    "Y_nY_{n'}\n",
    "    &= (\\sum_{i=1}^n X_i)(\\sum_{i=1}^{n'} X_i) \\\\\n",
    "    &= \\sum_{i=1}^{min(n,n')} X_i^2 + \\sum_{1 \\leq i \\leq n \\\\ 1 \\leq j \\leq n' \\\\ i \\neq j} X_iX_j \\\\\n",
    "\\mathbb{E}(Y_nY_{n'})\n",
    "    &= \\sum_{i=1}^{min(n,n')} 1 + \\sum_{1 \\leq i \\leq n \\\\ 1 \\leq j \\leq n' \\\\ i \\neq j} 0 \\\\\n",
    "    &= min(n, n')\n",
    "\\end{align*}\n",
    "\n",
    "D'où $$\\boxed{Cov(Y_n, Y_{n-1}) = min(n, n')}.$$\n",
    "\n",
    "Ensuite, $\\forall h \\in \\mathbb{N}^*$, on a :\n",
    "\n",
    "\\begin{align*}\n",
    "\\frac{1}{2} \\mathbb{E}((Y_n - Y_{n+h}^2)^2)\n",
    "    &= \\frac{1}{2} (\\mathbb{E}(Y_n^2) \\mathbb{E}(Y_{n+h}^2) - 2 \\mathbb{E}(Y_nY_{n+h})) \\\\\n",
    "    &= \\frac{1}{2} (n + (n+h) - 2n) \\text{ d'après le calcul précédent} \\\\\n",
    "    &= \\frac{h}{2}.\n",
    "\\end{align*}"
   ]
  },
  {
   "cell_type": "markdown",
   "metadata": {},
   "source": [
    "5. Les $X_n$ sont des variables aléatoires réelles, indépendantes et de même loi, de carré intégrable, d'espérance $0$ et de variance $1$.\n",
    "\n",
    "Par le théorème central limite, on a $\\frac{\\sum_{i=1}^n X_i - n \\times 0}{1 \\times \\sqrt{n}}\\xrightarrow[n \\to \\infty]{\\mathcal{L}}\\mathcal{N}(0,1)$\n",
    "\n",
    "Donc $$ \\boxed{\\frac{Y_n}{\\sqrt{n}}\\xrightarrow[n \\to \\infty]{\\mathcal{L}}\\mathcal{N}(0,1)}$$"
   ]
  },
  {
   "cell_type": "code",
   "execution_count": 1,
   "metadata": {},
   "outputs": [
    {
     "name": "stdout",
     "output_type": "stream",
     "text": [
      "Populating the interactive namespace from numpy and matplotlib\n"
     ]
    }
   ],
   "source": [
    "# chargement de dépendances\n",
    "%pylab inline\n",
    "import scipy.stats as sps\n",
    "from itertools import product"
   ]
  },
  {
   "cell_type": "code",
   "execution_count": 2,
   "metadata": {},
   "outputs": [],
   "source": [
    "# Initialisation de la graine\n",
    "np.random.seed(1234)"
   ]
  },
  {
   "cell_type": "markdown",
   "metadata": {},
   "source": [
    "# Comportement asymptotique\n",
    "\n",
    "On introduit maintenant $t_i=\\frac{i}{n}, i=0,\\ldots,n$ et\n",
    "$$Z^{(n)}_t= \\frac{Y_{[nt]}}{\\sqrt{n}}, t\\in[0,1],$$\n",
    "où $[\\cdot]$ est la partie entière.\n",
    "\n",
    "1. Montrer que $\\bigcup_{i=0}^{n-1}(t_i,t_{i+1}]$ forme une partition de $(0,1]$.\n",
    "\n",
    "2. Montrer que $Z^{(n)}_t=Z^{(n)}_{t_i}$ pour $i=[nt]$.\n",
    "\n",
    "3. Par conséquent, $Z^{(n)}_t, t\\in[0,1]$ est bien défini $\\forall t \\in [0,1]$. Implémenter un algorithme pour simuler $Z^{(n)}_t$ aux points $t_i,~ i \\in\\{0,\\ldots,n\\}$. Représenter une trajectoire pour $n$=1000.\n",
    "\n"
   ]
  },
  {
   "cell_type": "markdown",
   "metadata": {},
   "source": [
    "**Réponses**\n",
    "\n",
    "1. Déjà, les $(t_i, t_{i+1}]$ sont deux à deux disjoints et tous non vides (car $t_i < t_{i+1}$). Ensuite :\n",
    "\\begin{align*}\n",
    "\\bigcup_{i=0}^{n-1}(t_i, t_{i+1}] \n",
    "    &= \\bigcup_{i=0}^{n-1}(\\frac{i}{n}, \\frac{i+1}{n}]\\\\\n",
    "    &= (\\frac{0}{n}, \\frac{n}{n}]\\\\\n",
    "    &= (0, 1]\n",
    "\\end{align*}\n",
    "Donc les $(t_i, t_{i+1}]$ forment une partition de $(0, 1]$.\n",
    "\n",
    "2. On a $[nt_i] = [n\\frac{i}{n}] = [i] = [nt]$ donc $Y_{[nt]} = Y_{[nt_i]}$. D'où $Z^{(n)}_t=Z^{(n)}_{t_i}$ pour $i=[nt]$.\n",
    "\n",
    "3. "
   ]
  },
  {
   "cell_type": "code",
   "execution_count": 11,
   "metadata": {},
   "outputs": [],
   "source": [
    "def X_i():\n",
    "    if np.random.binomial(1, 0.5):\n",
    "        return -1\n",
    "    else:\n",
    "        return 1\n",
    "\n",
    "def Y(n):\n",
    "    res = 0\n",
    "    for _ in range(n):\n",
    "        res += X_i()\n",
    "    return res\n",
    "\n",
    "def Z(t, n):\n",
    "    return Y(math.floor(n*t))/np.sqrt(n)"
   ]
  },
  {
   "cell_type": "markdown",
   "metadata": {},
   "source": [
    "Remarque : On pourrait également implémenter les $X_i$ en remarquant qu'ils suivent la même loi que $2\\times V -1$ où $V$ est une variable aléatoire suivant une loi de Bernoulli de paramètre $\\frac{1}{2}$."
   ]
  },
  {
   "cell_type": "code",
   "execution_count": 14,
   "metadata": {},
   "outputs": [
    {
     "data": {
      "image/png": "[encoded data removed]",
      "text/plain": [
       "<Figure size 432x288 with 1 Axes>"
      ]
     },
     "metadata": {
      "needs_background": "light"
     },
     "output_type": "display_data"
    }
   ],
   "source": [
    "n = 1_000\n",
    "def path_Z(n):\n",
    "    res = 0\n",
    "    path = []\n",
    "    for k in range(n):\n",
    "        res += X_i()\n",
    "        path.append(res/sqrt(n))\n",
    "    return path\n",
    "\n",
    "\n",
    "X = [i/n for i in range(n)]\n",
    "Y = path_Z(n)\n",
    "\n",
    "plt.plot(X, Y)\n",
    "plt.xlabel('t')\n",
    "plt.ylabel('Z_t(n) pour n = 1000')\n",
    "plt.title(\"Représentation d'une trajectoire pour n = 1000\")\n",
    "plt.show()"
   ]
  },
  {
   "cell_type": "markdown",
   "metadata": {},
   "source": [
    "4. Montrer que $Z^{(n)}_t\\xrightarrow[n \\to \\infty]{\\mathcal{L}}\\mathcal{N}(0,t),~\\forall t \\in [0,1]$, en déduire la loi de $Z^{(n)}_1=\\frac{Y_n}{\\sqrt{n}}$ quand $n$\n",
    "  tend vers l'infini.\n",
    "  Construire un échantillon de taille 1000 de valeurs de $Z^{(n)}_1$ pour n = 1000. Représenter son histogramme et le comparer avec la densité gaussienne standard.\n",
    "\n"
   ]
  },
  {
   "cell_type": "markdown",
   "metadata": {},
   "source": [
    "**Réponse 4**\n",
    "\n",
    "Soit $t \\in ]0,1]$. \n",
    "\n",
    "Appliquons le théorème central limite.\n",
    "\n",
    "Les $(X_k)_{k \\in \\{ 1, ..., [tn] \\}}$ sont des variables aléatoires réelles, indépendantes et de même loi, de carré intégrable, d'espérance nulle et de variance $1$.\n",
    "\n",
    "Par le théorème central limite, et comme $\\frac{1}{\\sqrt{nt}} \\sim_{n \\to \\infty} \\frac{1}{\\sqrt{[nt]}}$, on a :$$\\frac{\\sum_{k=1}^{[nt]} X_k}{\\sqrt{nt}}\\xrightarrow[n \\to \\infty]{\\mathcal{L}}\\mathcal{N}(0,1).$$\n",
    "\n",
    "Donc : $$\\frac{Z^{(n)}_t}{\\sqrt{t}} = \\frac{Y_{[kn]}}{\\sqrt{nt}}\\xrightarrow[n \\to \\infty]{\\mathcal{L}}\\mathcal{N}(0,1)$$\n",
    "\n",
    "Puis par linéarité de la loi normale :\n",
    "\n",
    "$$Z^{(n)}_t\\xrightarrow[n \\to \\infty]{\\mathcal{L}} \\sqrt{t} \\ \\mathcal{N}(0,1) = \\mathcal{N}(0, t)$$\n",
    "\n",
    "Enfin, pour $t=0$, $\\forall n \\in \\mathbb{N}, Z^{(n)}_t$ est presque sûrement nulle et $\\mathcal{N}(0, 0)$ est presque sûrement nulle. On obtient donc le résultat pour tout $t \\in [0,1]$.\n",
    "\n",
    "On en déduit que $Z_1^{(n)}$ suit une loi normale d'espérance $0$ et de variance $1$."
   ]
  },
  {
   "cell_type": "code",
   "execution_count": 15,
   "metadata": {
    "scrolled": false
   },
   "outputs": [
    {
     "data": {
      "image/png": "[encoded data removed]",
      "text/plain": [
       "<Figure size 432x288 with 1 Axes>"
      ]
     },
     "metadata": {
      "needs_background": "light"
     },
     "output_type": "display_data"
    }
   ],
   "source": [
    "X = np.arange(1_000)\n",
    "Z_1 = [np.random.standard_normal() for x in X]\n",
    "\n",
    "X_gauss = np.linspace(min(Z_1), max(Z_1), 200)\n",
    "Y_gauss = [sps.norm.pdf(x, 0, 1) for x in X_gauss]\n",
    "\n",
    "plt.hist(Z_1, bins = 100, density = True, label = 'Z_1')\n",
    "plt.plot(X_gauss, Y_gauss, 'r', label = 'Standard Gaussian Density')\n",
    "plt.legend(loc='best')\n",
    "plt.title(\"Comparaison de l'histogramme de Z_1(n) avec la densité gaussienne standard pour n = 1000\")\n",
    "plt.show()"
   ]
  },
  {
   "cell_type": "markdown",
   "metadata": {},
   "source": [
    "**Remarque**\n",
    "\n",
    "${\\bf Z}_t=\\lim_{n \\to \\infty} Z^{(n)}_t$ est le mouvement brownien standard sur $[0,1]$. \n"
   ]
  },
  {
   "cell_type": "markdown",
   "metadata": {},
   "source": [
    "# Une construction alternative\n",
    "\n",
    "On considère maintenant la construction suivante, définie pour tout $t \\in [0,1]$:\n",
    "$$\\tilde{Z}^{(n)}_t = \\frac{1}{\\sqrt{n}}\\sum_{i=1}^n X_i (1_{[0,U_i]}(t)-1_{]U_i,1]}(t))$$\n",
    "où les $X_i$ sont définis tels que précédemment et les $U_i$ sont des variables aléatoires i.i.d. de loi uniforme sur $[0,1]$.\n",
    "Cette construction permet de définir un algorithme alternatif de simulation d'une (approximation de) trajectoire brownienne, cette fois-ci non standard au sens où on n'a pas systématiquement $\\tilde{Z}^{(n)}_0 = 0$.\n",
    "\n",
    "**Question 1**\n",
    "\n",
    "Discrétiser l'intervalle $[0,1]$ en 1000 points de manière régulière et implémenter l'algorithme (commencer par n = 1). Représenter une trajectoire pour $n = 1000$."
   ]
  },
  {
   "cell_type": "markdown",
   "metadata": {},
   "source": [
    "**Réponse 1**"
   ]
  },
  {
   "cell_type": "code",
   "execution_count": 94,
   "metadata": {},
   "outputs": [],
   "source": [
    "def Z_tild(t, n, U, X):\n",
    "    res = 0\n",
    "    for i in range(n):\n",
    "        res += X[i]*((U[i]<t)*1 - (U[i]>t)*1)\n",
    "    return res/np.sqrt(n)"
   ]
  },
  {
   "cell_type": "code",
   "execution_count": 19,
   "metadata": {},
   "outputs": [
    {
     "data": {
      "image/png": "[encoded data removed]",
      "text/plain": [
       "<Figure size 432x288 with 1 Axes>"
      ]
     },
     "metadata": {
      "needs_background": "light"
     },
     "output_type": "display_data"
    }
   ],
   "source": [
    "n = 1_000\n",
    "T = np.linspace(0, 1, n)\n",
    "U = np.random.uniform(0, 1, size=n)\n",
    "X = [X_i() for _ in range(n)]\n",
    "Z = [Z_tild(t, n, U, X) for t in T]\n",
    "plt.plot(T, Z)\n",
    "plt.xlabel('t')\n",
    "plt.ylabel('Z_tild_t(n) pour n = 1000')\n",
    "plt.title(f\"Représentation d'une trajectoire pour n = {n}\")\n",
    "plt.show()"
   ]
  },
  {
   "cell_type": "markdown",
   "metadata": {},
   "source": [
    "**Question 2**\n",
    "\n",
    "Calculer l'espérance et la variance de $\\tilde{Z}^{(n)}_t$. En déduire que $\\forall t \\in [0,1],~ \\tilde{Z}^{(n)}_t\\xrightarrow[n \\to \\infty]{\\mathcal{L}}\\mathcal{N}(0,1)$. Le vérifier expérimentalement aux points $\\{0,0.25,0.5,0.75,1\\}$ sur la base d'un échantillon de 1000 réalisations de $\\tilde{Z}^{(n)}$."
   ]
  },
  {
   "cell_type": "markdown",
   "metadata": {},
   "source": [
    "**Réponse 2**\n",
    "\n",
    "**Calcul de l'espérance**\n",
    "\n",
    "À $i$ fixé, $X_i$ et $U_i$ sont indépendantes donc on a :\n",
    "\n",
    "\\begin{align*}\n",
    "\\mathbb{E}(\\tilde{Z}^{(n)}_t)\n",
    "    &= \\frac{1}{\\sqrt{n}} \\sum_{i=1}^n \\mathbb{E}(X_i(\\mathbb{1}_{[0, U_i]}(t) - \\mathbb{1}_{]U_i, 1]}(t))) \\\\\n",
    "    &= \\frac{1}{\\sqrt{n}} \\sum_{i=1}^n \\mathbb{E}(X_i)\\mathbb{E}(\\mathbb{1}_{[0, U_i]}(t) - \\mathbb{1}_{]U_i, 1]}(t)) \\\\\n",
    "    &= 0\n",
    "\\end{align*}\n",
    "\n",
    "**Calcul de la variance**\n",
    "\n",
    "\\begin{align*}\n",
    "\\mathbb{V}(\\tilde{Z}^{(n)}_t)\n",
    "    &= \\frac{1}{n} \\sum_{i=1}^n \\mathbb{V}(X_i(\\mathbb{1}_{[0, U_i]}(t) - \\mathbb{1}_{]U_i, 1]}(t)))\n",
    "\\end{align*}\n",
    "\n",
    "Or\n",
    "\\begin{align*}\n",
    "\\forall i \\in \\mathbb{N}, \\\n",
    "\\mathbb{V}(X_i(\\mathbb{1}_{[0, U_i]}(t) - \\mathbb{1}_{]U_i, 1]}(t)))\n",
    "    &= \\mathbb{E}((X_i(\\mathbb{1}_{[0, U_i]}(t) - \\mathbb{1}_{]U_i, 1]}(t)))^2) - \\mathbb{E}(X_i(\\mathbb{1}_{[0, U_i]}(t) - \\mathbb{1}_{]U_i, 1]}(t)))^2\\\\\n",
    "    &= \\mathbb{E}(X_i^2)\\mathbb{E}((\\mathbb{1}_{[0, U_i]}(t) - \\mathbb{1}_{]U_i, 1]}(t))^2) - \\mathbb{E}(X_i)^2\\mathbb{E}(\\mathbb{1}_{[0, U_i]}(t) - \\mathbb{1}_{]U_i, 1]}(t))^2 \\\\\n",
    "    &= \\mathbb{E}(X_i^2)\\mathbb{E}((\\mathbb{1}_{[0, U_i]}(t) - \\mathbb{1}_{]U_i, 1]}(t))^2) \\ \\ \\text{ car } \\mathbb{E}(X_i)=0\n",
    "\\end{align*}\n",
    "\n",
    "Et\n",
    "\\begin{align*}\n",
    "\\forall i \\in \\mathbb{N}, \\\n",
    "\\mathbb{E}((\\mathbb{1}_{[0, U_i]}(t) - \\mathbb{1}_{]U_i, 1]}(t))^2)\n",
    "    &= \\mathbb{E}(\\mathbb{1}_{[0, U_i]}^2 - 2 \\mathbb{1}_{[0, U_i]}\\mathbb{1}_{]U_i, 1]} + \\mathbb{1}_{]U_i, 1]}^2) \\\\\n",
    "    &= \\mathbb{E}(\\mathbb{1}_{[0, U_i]}^2 + \\mathbb{1}_{]U_i, 1]}^2) \\\\\n",
    "    &= \\mathbb{E}(\\mathbb{1}_{[0, U_i]} + \\mathbb{1}_{]U_i, 1]}) \\\\\n",
    "    &= \\mathbb{E}(\\mathbb{1}_{[0, 1]}(t)) \\\\\n",
    "    &= \\mathbb{P}(t \\in [0,1]) \\\\\n",
    "    &= 1\n",
    "\\end{align*}\n",
    "\n",
    "Finalement : $$\\mathbb{V}(\\tilde{Z}^{(n)}_t) = \\frac{1}{n} \\sum_{i=1}^n 1 = 1.$$"
   ]
  },
  {
   "cell_type": "markdown",
   "metadata": {},
   "source": [
    "Les $X_i$ sont i.i.d., les $U_i$ sont i.i.d., donc les $X_i(\\mathbb{1}_{[0, U_i]} - \\mathbb{1}_{]U_i, 1]})$ sont toutes de même loi et sont indépendantes. Elles sont d'espérance $0$ et de variance $1$ comme montré précédemment.\n",
    "\n",
    "Par le théorème central limite, on en déduit que $$\\forall t \\in [0,1],~ \\tilde{Z}^{(n)}_t\\xrightarrow[n \\to \\infty]{\\mathcal{L}}\\mathcal{N}(0,1)$$"
   ]
  },
  {
   "cell_type": "markdown",
   "metadata": {},
   "source": [
    "Pour le vérifier expérimentalement aux points $\\{0,0.25,0.5,0.75,1\\}$ sur la base d'un échantillon de 1000 réalisations de $\\tilde{Z}^{(n)},$ on choisit $n=1000$."
   ]
  },
  {
   "cell_type": "code",
   "execution_count": 17,
   "metadata": {},
   "outputs": [],
   "source": [
    "def test_plot_Z_tild(t, N_SIMUS):\n",
    "    X = np.arange(0, N_SIMUS)\n",
    "    Y = [Z_tild(t, 1_000) for  x in X]\n",
    "    X_gauss = np.linspace(min(Y), max(Y), 200)\n",
    "    Y_gauss = [sps.norm.pdf(x, 0, 1) for x in X_gauss]\n",
    "    return X, Y, X_gauss, Y_gauss"
   ]
  },
  {
   "cell_type": "code",
   "execution_count": 18,
   "metadata": {},
   "outputs": [
    {
     "ename": "KeyboardInterrupt",
     "evalue": "",
     "output_type": "error",
     "traceback": [
      "\u001b[0;31m---------------------------------------------------------------------------\u001b[0m",
      "\u001b[0;31mKeyboardInterrupt\u001b[0m                         Traceback (most recent call last)",
      "\u001b[0;32m/var/folders/xb/bj1v214d7c5_3lwphpynj_pm0000gn/T/ipykernel_52556/1626694760.py\u001b[0m in \u001b[0;36m<module>\u001b[0;34m\u001b[0m\n\u001b[1;32m      3\u001b[0m \u001b[0m_\u001b[0m\u001b[0;34m,\u001b[0m \u001b[0maxs\u001b[0m \u001b[0;34m=\u001b[0m \u001b[0mplt\u001b[0m\u001b[0;34m.\u001b[0m\u001b[0msubplots\u001b[0m\u001b[0;34m(\u001b[0m\u001b[0;36m5\u001b[0m\u001b[0;34m,\u001b[0m \u001b[0mfigsize\u001b[0m \u001b[0;34m=\u001b[0m \u001b[0;34m(\u001b[0m\u001b[0;36m5\u001b[0m\u001b[0;34m,\u001b[0m \u001b[0;36m25\u001b[0m\u001b[0;34m)\u001b[0m\u001b[0;34m)\u001b[0m\u001b[0;34m\u001b[0m\u001b[0;34m\u001b[0m\u001b[0m\n\u001b[1;32m      4\u001b[0m \u001b[0;32mfor\u001b[0m \u001b[0mj\u001b[0m \u001b[0;32min\u001b[0m \u001b[0mrange\u001b[0m\u001b[0;34m(\u001b[0m\u001b[0;36m5\u001b[0m\u001b[0;34m)\u001b[0m\u001b[0;34m:\u001b[0m\u001b[0;34m\u001b[0m\u001b[0;34m\u001b[0m\u001b[0m\n\u001b[0;32m----> 5\u001b[0;31m     \u001b[0mX\u001b[0m\u001b[0;34m,\u001b[0m \u001b[0mY\u001b[0m\u001b[0;34m,\u001b[0m \u001b[0mX_gauss\u001b[0m\u001b[0;34m,\u001b[0m \u001b[0mY_gauss\u001b[0m \u001b[0;34m=\u001b[0m \u001b[0mtest_plot_Z_tild\u001b[0m\u001b[0;34m(\u001b[0m\u001b[0mT\u001b[0m\u001b[0;34m[\u001b[0m\u001b[0mj\u001b[0m\u001b[0;34m]\u001b[0m\u001b[0;34m,\u001b[0m \u001b[0mN_SIMUS\u001b[0m\u001b[0;34m)\u001b[0m\u001b[0;34m\u001b[0m\u001b[0;34m\u001b[0m\u001b[0m\n\u001b[0m\u001b[1;32m      6\u001b[0m     \u001b[0maxs\u001b[0m\u001b[0;34m[\u001b[0m\u001b[0mj\u001b[0m\u001b[0;34m]\u001b[0m\u001b[0;34m.\u001b[0m\u001b[0mhist\u001b[0m\u001b[0;34m(\u001b[0m\u001b[0mY\u001b[0m\u001b[0;34m,\u001b[0m \u001b[0mbins\u001b[0m \u001b[0;34m=\u001b[0m \u001b[0;36m100\u001b[0m\u001b[0;34m,\u001b[0m \u001b[0mdensity\u001b[0m\u001b[0;34m=\u001b[0m\u001b[0;32mTrue\u001b[0m\u001b[0;34m,\u001b[0m \u001b[0mlabel\u001b[0m \u001b[0;34m=\u001b[0m \u001b[0;34m'data'\u001b[0m\u001b[0;34m)\u001b[0m\u001b[0;34m\u001b[0m\u001b[0;34m\u001b[0m\u001b[0m\n\u001b[1;32m      7\u001b[0m     \u001b[0maxs\u001b[0m\u001b[0;34m[\u001b[0m\u001b[0mj\u001b[0m\u001b[0;34m]\u001b[0m\u001b[0;34m.\u001b[0m\u001b[0mplot\u001b[0m\u001b[0;34m(\u001b[0m\u001b[0mX_gauss\u001b[0m\u001b[0;34m,\u001b[0m \u001b[0mY_gauss\u001b[0m\u001b[0;34m,\u001b[0m \u001b[0;34m'r'\u001b[0m\u001b[0;34m,\u001b[0m \u001b[0mlabel\u001b[0m \u001b[0;34m=\u001b[0m \u001b[0;34m'theory'\u001b[0m\u001b[0;34m)\u001b[0m\u001b[0;34m\u001b[0m\u001b[0;34m\u001b[0m\u001b[0m\n",
      "\u001b[0;32m/var/folders/xb/bj1v214d7c5_3lwphpynj_pm0000gn/T/ipykernel_52556/1117003305.py\u001b[0m in \u001b[0;36mtest_plot_Z_tild\u001b[0;34m(t, N_SIMUS)\u001b[0m\n\u001b[1;32m      1\u001b[0m \u001b[0;32mdef\u001b[0m \u001b[0mtest_plot_Z_tild\u001b[0m\u001b[0;34m(\u001b[0m\u001b[0mt\u001b[0m\u001b[0;34m,\u001b[0m \u001b[0mN_SIMUS\u001b[0m\u001b[0;34m)\u001b[0m\u001b[0;34m:\u001b[0m\u001b[0;34m\u001b[0m\u001b[0;34m\u001b[0m\u001b[0m\n\u001b[1;32m      2\u001b[0m     \u001b[0mX\u001b[0m \u001b[0;34m=\u001b[0m \u001b[0mnp\u001b[0m\u001b[0;34m.\u001b[0m\u001b[0marange\u001b[0m\u001b[0;34m(\u001b[0m\u001b[0;36m0\u001b[0m\u001b[0;34m,\u001b[0m \u001b[0mN_SIMUS\u001b[0m\u001b[0;34m)\u001b[0m\u001b[0;34m\u001b[0m\u001b[0;34m\u001b[0m\u001b[0m\n\u001b[0;32m----> 3\u001b[0;31m     \u001b[0mY\u001b[0m \u001b[0;34m=\u001b[0m \u001b[0;34m[\u001b[0m\u001b[0mZ_tild\u001b[0m\u001b[0;34m(\u001b[0m\u001b[0mt\u001b[0m\u001b[0;34m,\u001b[0m \u001b[0;36m1_000\u001b[0m\u001b[0;34m)\u001b[0m \u001b[0;32mfor\u001b[0m  \u001b[0mx\u001b[0m \u001b[0;32min\u001b[0m \u001b[0mX\u001b[0m\u001b[0;34m]\u001b[0m\u001b[0;34m\u001b[0m\u001b[0;34m\u001b[0m\u001b[0m\n\u001b[0m\u001b[1;32m      4\u001b[0m     \u001b[0mX_gauss\u001b[0m \u001b[0;34m=\u001b[0m \u001b[0mnp\u001b[0m\u001b[0;34m.\u001b[0m\u001b[0mlinspace\u001b[0m\u001b[0;34m(\u001b[0m\u001b[0mmin\u001b[0m\u001b[0;34m(\u001b[0m\u001b[0mY\u001b[0m\u001b[0;34m)\u001b[0m\u001b[0;34m,\u001b[0m \u001b[0mmax\u001b[0m\u001b[0;34m(\u001b[0m\u001b[0mY\u001b[0m\u001b[0;34m)\u001b[0m\u001b[0;34m,\u001b[0m \u001b[0;36m200\u001b[0m\u001b[0;34m)\u001b[0m\u001b[0;34m\u001b[0m\u001b[0;34m\u001b[0m\u001b[0m\n\u001b[1;32m      5\u001b[0m     \u001b[0mY_gauss\u001b[0m \u001b[0;34m=\u001b[0m \u001b[0;34m[\u001b[0m\u001b[0msps\u001b[0m\u001b[0;34m.\u001b[0m\u001b[0mnorm\u001b[0m\u001b[0;34m.\u001b[0m\u001b[0mpdf\u001b[0m\u001b[0;34m(\u001b[0m\u001b[0mx\u001b[0m\u001b[0;34m,\u001b[0m \u001b[0;36m0\u001b[0m\u001b[0;34m,\u001b[0m \u001b[0;36m1\u001b[0m\u001b[0;34m)\u001b[0m \u001b[0;32mfor\u001b[0m \u001b[0mx\u001b[0m \u001b[0;32min\u001b[0m \u001b[0mX_gauss\u001b[0m\u001b[0;34m]\u001b[0m\u001b[0;34m\u001b[0m\u001b[0;34m\u001b[0m\u001b[0m\n",
      "\u001b[0;32m/var/folders/xb/bj1v214d7c5_3lwphpynj_pm0000gn/T/ipykernel_52556/1117003305.py\u001b[0m in \u001b[0;36m<listcomp>\u001b[0;34m(.0)\u001b[0m\n\u001b[1;32m      1\u001b[0m \u001b[0;32mdef\u001b[0m \u001b[0mtest_plot_Z_tild\u001b[0m\u001b[0;34m(\u001b[0m\u001b[0mt\u001b[0m\u001b[0;34m,\u001b[0m \u001b[0mN_SIMUS\u001b[0m\u001b[0;34m)\u001b[0m\u001b[0;34m:\u001b[0m\u001b[0;34m\u001b[0m\u001b[0;34m\u001b[0m\u001b[0m\n\u001b[1;32m      2\u001b[0m     \u001b[0mX\u001b[0m \u001b[0;34m=\u001b[0m \u001b[0mnp\u001b[0m\u001b[0;34m.\u001b[0m\u001b[0marange\u001b[0m\u001b[0;34m(\u001b[0m\u001b[0;36m0\u001b[0m\u001b[0;34m,\u001b[0m \u001b[0mN_SIMUS\u001b[0m\u001b[0;34m)\u001b[0m\u001b[0;34m\u001b[0m\u001b[0;34m\u001b[0m\u001b[0m\n\u001b[0;32m----> 3\u001b[0;31m     \u001b[0mY\u001b[0m \u001b[0;34m=\u001b[0m \u001b[0;34m[\u001b[0m\u001b[0mZ_tild\u001b[0m\u001b[0;34m(\u001b[0m\u001b[0mt\u001b[0m\u001b[0;34m,\u001b[0m \u001b[0;36m1_000\u001b[0m\u001b[0;34m)\u001b[0m \u001b[0;32mfor\u001b[0m  \u001b[0mx\u001b[0m \u001b[0;32min\u001b[0m \u001b[0mX\u001b[0m\u001b[0;34m]\u001b[0m\u001b[0;34m\u001b[0m\u001b[0;34m\u001b[0m\u001b[0m\n\u001b[0m\u001b[1;32m      4\u001b[0m     \u001b[0mX_gauss\u001b[0m \u001b[0;34m=\u001b[0m \u001b[0mnp\u001b[0m\u001b[0;34m.\u001b[0m\u001b[0mlinspace\u001b[0m\u001b[0;34m(\u001b[0m\u001b[0mmin\u001b[0m\u001b[0;34m(\u001b[0m\u001b[0mY\u001b[0m\u001b[0;34m)\u001b[0m\u001b[0;34m,\u001b[0m \u001b[0mmax\u001b[0m\u001b[0;34m(\u001b[0m\u001b[0mY\u001b[0m\u001b[0;34m)\u001b[0m\u001b[0;34m,\u001b[0m \u001b[0;36m200\u001b[0m\u001b[0;34m)\u001b[0m\u001b[0;34m\u001b[0m\u001b[0;34m\u001b[0m\u001b[0m\n\u001b[1;32m      5\u001b[0m     \u001b[0mY_gauss\u001b[0m \u001b[0;34m=\u001b[0m \u001b[0;34m[\u001b[0m\u001b[0msps\u001b[0m\u001b[0;34m.\u001b[0m\u001b[0mnorm\u001b[0m\u001b[0;34m.\u001b[0m\u001b[0mpdf\u001b[0m\u001b[0;34m(\u001b[0m\u001b[0mx\u001b[0m\u001b[0;34m,\u001b[0m \u001b[0;36m0\u001b[0m\u001b[0;34m,\u001b[0m \u001b[0;36m1\u001b[0m\u001b[0;34m)\u001b[0m \u001b[0;32mfor\u001b[0m \u001b[0mx\u001b[0m \u001b[0;32min\u001b[0m \u001b[0mX_gauss\u001b[0m\u001b[0;34m]\u001b[0m\u001b[0;34m\u001b[0m\u001b[0;34m\u001b[0m\u001b[0m\n",
      "\u001b[0;32m/var/folders/xb/bj1v214d7c5_3lwphpynj_pm0000gn/T/ipykernel_52556/2018763518.py\u001b[0m in \u001b[0;36mZ_tild\u001b[0;34m(t, n)\u001b[0m\n\u001b[1;32m      2\u001b[0m     \u001b[0mres\u001b[0m \u001b[0;34m=\u001b[0m \u001b[0;36m0\u001b[0m\u001b[0;34m\u001b[0m\u001b[0;34m\u001b[0m\u001b[0m\n\u001b[1;32m      3\u001b[0m     \u001b[0mU_i\u001b[0m \u001b[0;34m=\u001b[0m \u001b[0mnp\u001b[0m\u001b[0;34m.\u001b[0m\u001b[0mrandom\u001b[0m\u001b[0;34m.\u001b[0m\u001b[0muniform\u001b[0m\u001b[0;34m(\u001b[0m\u001b[0;36m0\u001b[0m\u001b[0;34m,\u001b[0m \u001b[0;36m1\u001b[0m\u001b[0;34m,\u001b[0m \u001b[0msize\u001b[0m\u001b[0;34m=\u001b[0m\u001b[0mn\u001b[0m\u001b[0;34m)\u001b[0m\u001b[0;34m\u001b[0m\u001b[0;34m\u001b[0m\u001b[0m\n\u001b[0;32m----> 4\u001b[0;31m     \u001b[0mX\u001b[0m \u001b[0;34m=\u001b[0m \u001b[0mnp\u001b[0m\u001b[0;34m.\u001b[0m\u001b[0marray\u001b[0m\u001b[0;34m(\u001b[0m\u001b[0;34m[\u001b[0m\u001b[0mX_i\u001b[0m\u001b[0;34m(\u001b[0m\u001b[0;34m)\u001b[0m \u001b[0;32mfor\u001b[0m \u001b[0m_\u001b[0m \u001b[0;32min\u001b[0m \u001b[0mrange\u001b[0m\u001b[0;34m(\u001b[0m\u001b[0mn\u001b[0m\u001b[0;34m)\u001b[0m\u001b[0;34m]\u001b[0m\u001b[0;34m)\u001b[0m\u001b[0;34m\u001b[0m\u001b[0;34m\u001b[0m\u001b[0m\n\u001b[0m\u001b[1;32m      5\u001b[0m     \u001b[0;32mfor\u001b[0m \u001b[0mi\u001b[0m \u001b[0;32min\u001b[0m \u001b[0mrange\u001b[0m\u001b[0;34m(\u001b[0m\u001b[0mn\u001b[0m\u001b[0;34m)\u001b[0m\u001b[0;34m:\u001b[0m\u001b[0;34m\u001b[0m\u001b[0;34m\u001b[0m\u001b[0m\n\u001b[1;32m      6\u001b[0m         \u001b[0mres\u001b[0m \u001b[0;34m+=\u001b[0m \u001b[0;34m(\u001b[0m\u001b[0mX\u001b[0m\u001b[0;34m[\u001b[0m\u001b[0mi\u001b[0m\u001b[0;34m]\u001b[0m\u001b[0;34m*\u001b[0m\u001b[0;34m(\u001b[0m\u001b[0;34m(\u001b[0m\u001b[0mU_i\u001b[0m\u001b[0;34m[\u001b[0m\u001b[0mi\u001b[0m\u001b[0;34m]\u001b[0m\u001b[0;34m<\u001b[0m\u001b[0mt\u001b[0m\u001b[0;34m)\u001b[0m\u001b[0;34m*\u001b[0m\u001b[0;36m1\u001b[0m \u001b[0;34m-\u001b[0m \u001b[0;34m(\u001b[0m\u001b[0mU_i\u001b[0m\u001b[0;34m[\u001b[0m\u001b[0mi\u001b[0m\u001b[0;34m]\u001b[0m\u001b[0;34m>\u001b[0m\u001b[0mt\u001b[0m\u001b[0;34m)\u001b[0m\u001b[0;34m*\u001b[0m\u001b[0;36m1\u001b[0m\u001b[0;34m)\u001b[0m\u001b[0;34m)\u001b[0m\u001b[0;34m\u001b[0m\u001b[0;34m\u001b[0m\u001b[0m\n",
      "\u001b[0;32m/var/folders/xb/bj1v214d7c5_3lwphpynj_pm0000gn/T/ipykernel_52556/2018763518.py\u001b[0m in \u001b[0;36m<listcomp>\u001b[0;34m(.0)\u001b[0m\n\u001b[1;32m      2\u001b[0m     \u001b[0mres\u001b[0m \u001b[0;34m=\u001b[0m \u001b[0;36m0\u001b[0m\u001b[0;34m\u001b[0m\u001b[0;34m\u001b[0m\u001b[0m\n\u001b[1;32m      3\u001b[0m     \u001b[0mU_i\u001b[0m \u001b[0;34m=\u001b[0m \u001b[0mnp\u001b[0m\u001b[0;34m.\u001b[0m\u001b[0mrandom\u001b[0m\u001b[0;34m.\u001b[0m\u001b[0muniform\u001b[0m\u001b[0;34m(\u001b[0m\u001b[0;36m0\u001b[0m\u001b[0;34m,\u001b[0m \u001b[0;36m1\u001b[0m\u001b[0;34m,\u001b[0m \u001b[0msize\u001b[0m\u001b[0;34m=\u001b[0m\u001b[0mn\u001b[0m\u001b[0;34m)\u001b[0m\u001b[0;34m\u001b[0m\u001b[0;34m\u001b[0m\u001b[0m\n\u001b[0;32m----> 4\u001b[0;31m     \u001b[0mX\u001b[0m \u001b[0;34m=\u001b[0m \u001b[0mnp\u001b[0m\u001b[0;34m.\u001b[0m\u001b[0marray\u001b[0m\u001b[0;34m(\u001b[0m\u001b[0;34m[\u001b[0m\u001b[0mX_i\u001b[0m\u001b[0;34m(\u001b[0m\u001b[0;34m)\u001b[0m \u001b[0;32mfor\u001b[0m \u001b[0m_\u001b[0m \u001b[0;32min\u001b[0m \u001b[0mrange\u001b[0m\u001b[0;34m(\u001b[0m\u001b[0mn\u001b[0m\u001b[0;34m)\u001b[0m\u001b[0;34m]\u001b[0m\u001b[0;34m)\u001b[0m\u001b[0;34m\u001b[0m\u001b[0;34m\u001b[0m\u001b[0m\n\u001b[0m\u001b[1;32m      5\u001b[0m     \u001b[0;32mfor\u001b[0m \u001b[0mi\u001b[0m \u001b[0;32min\u001b[0m \u001b[0mrange\u001b[0m\u001b[0;34m(\u001b[0m\u001b[0mn\u001b[0m\u001b[0;34m)\u001b[0m\u001b[0;34m:\u001b[0m\u001b[0;34m\u001b[0m\u001b[0;34m\u001b[0m\u001b[0m\n\u001b[1;32m      6\u001b[0m         \u001b[0mres\u001b[0m \u001b[0;34m+=\u001b[0m \u001b[0;34m(\u001b[0m\u001b[0mX\u001b[0m\u001b[0;34m[\u001b[0m\u001b[0mi\u001b[0m\u001b[0;34m]\u001b[0m\u001b[0;34m*\u001b[0m\u001b[0;34m(\u001b[0m\u001b[0;34m(\u001b[0m\u001b[0mU_i\u001b[0m\u001b[0;34m[\u001b[0m\u001b[0mi\u001b[0m\u001b[0;34m]\u001b[0m\u001b[0;34m<\u001b[0m\u001b[0mt\u001b[0m\u001b[0;34m)\u001b[0m\u001b[0;34m*\u001b[0m\u001b[0;36m1\u001b[0m \u001b[0;34m-\u001b[0m \u001b[0;34m(\u001b[0m\u001b[0mU_i\u001b[0m\u001b[0;34m[\u001b[0m\u001b[0mi\u001b[0m\u001b[0;34m]\u001b[0m\u001b[0;34m>\u001b[0m\u001b[0mt\u001b[0m\u001b[0;34m)\u001b[0m\u001b[0;34m*\u001b[0m\u001b[0;36m1\u001b[0m\u001b[0;34m)\u001b[0m\u001b[0;34m)\u001b[0m\u001b[0;34m\u001b[0m\u001b[0;34m\u001b[0m\u001b[0m\n",
      "\u001b[0;32m/var/folders/xb/bj1v214d7c5_3lwphpynj_pm0000gn/T/ipykernel_52556/2215606447.py\u001b[0m in \u001b[0;36mX_i\u001b[0;34m()\u001b[0m\n\u001b[1;32m      1\u001b[0m \u001b[0;32mdef\u001b[0m \u001b[0mX_i\u001b[0m\u001b[0;34m(\u001b[0m\u001b[0;34m)\u001b[0m\u001b[0;34m:\u001b[0m\u001b[0;34m\u001b[0m\u001b[0;34m\u001b[0m\u001b[0m\n\u001b[0;32m----> 2\u001b[0;31m     \u001b[0;32mif\u001b[0m \u001b[0mnp\u001b[0m\u001b[0;34m.\u001b[0m\u001b[0mrandom\u001b[0m\u001b[0;34m.\u001b[0m\u001b[0mbinomial\u001b[0m\u001b[0;34m(\u001b[0m\u001b[0;36m1\u001b[0m\u001b[0;34m,\u001b[0m \u001b[0;36m0.5\u001b[0m\u001b[0;34m)\u001b[0m\u001b[0;34m:\u001b[0m\u001b[0;34m\u001b[0m\u001b[0;34m\u001b[0m\u001b[0m\n\u001b[0m\u001b[1;32m      3\u001b[0m         \u001b[0;32mreturn\u001b[0m \u001b[0;34m-\u001b[0m\u001b[0;36m1\u001b[0m\u001b[0;34m\u001b[0m\u001b[0;34m\u001b[0m\u001b[0m\n\u001b[1;32m      4\u001b[0m     \u001b[0;32melse\u001b[0m\u001b[0;34m:\u001b[0m\u001b[0;34m\u001b[0m\u001b[0;34m\u001b[0m\u001b[0m\n\u001b[1;32m      5\u001b[0m         \u001b[0;32mreturn\u001b[0m \u001b[0;36m1\u001b[0m\u001b[0;34m\u001b[0m\u001b[0;34m\u001b[0m\u001b[0m\n",
      "\u001b[0;31mKeyboardInterrupt\u001b[0m: "
     ]
    },
    {
     "data": {
      "image/png": "[encoded data removed]",
      "text/plain": [
       "<Figure size 360x1800 with 5 Axes>"
      ]
     },
     "metadata": {
      "needs_background": "light"
     },
     "output_type": "display_data"
    }
   ],
   "source": [
    "T = [0, 0.25, 0.5, 0.75, 1]\n",
    "N_SIMUS = 1_000\n",
    "_, axs = plt.subplots(5, figsize = (5, 25))\n",
    "for j in range(5):\n",
    "    X, Y, X_gauss, Y_gauss = test_plot_Z_tild(T[j], N_SIMUS)\n",
    "    axs[j].hist(Y, bins = 100, density=True, label = 'data')\n",
    "    axs[j].plot(X_gauss, Y_gauss, 'r', label = 'theory')\n",
    "    axs[j].legend(loc='best')\n",
    "    axs[j].set_title(f\"Comparaison de l'histogramme de Z_tild_t(n) avec la densité gaussienne standard pour t={T[j]}\")"
   ]
  },
  {
   "cell_type": "markdown",
   "metadata": {},
   "source": [
    "**Question 3**\n",
    "\n",
    "Montrer que $\\frac12\\mathbb{E}\\left((\\tilde{Z}^{(n)}_t-\\tilde{Z}^{(n)}_{t+h})^2\\right) =  a h$ pour $h>0$ et tel que $t+h \\leq 1$, pour une constante $a$ à déterminer."
   ]
  },
  {
   "cell_type": "markdown",
   "metadata": {},
   "source": [
    "**Réponse 2**\n",
    "\n",
    "\\begin{align*}\n",
    "\\tilde{Z}_t^{(n)} - \\tilde{Z}_{t+h}^{(n)}\n",
    "    &= \\frac{1}{\\sqrt{n}}(\\sum_{i=1}^n X_i(\\mathbb{1}_{[0,U_i]}(t) - \\mathbb{1}_{]U_i, 1]}(t) - \\mathbb{1}_{[0,U_i]}(t+h) + \\mathbb{1}_{]U_i,1]}(t+h)) \\\\\n",
    "(\\tilde{Z}_t^{(n)} - \\tilde{Z}_{t+h}^{(n)})^2\n",
    "    &= \\frac{1}{n} \\sum_{i = 1}^n \\sum_{j=1}^n X_i \\ X_j \\ (\\mathbb{1}_{[0,U_i]}(t) - \\mathbb{1}_{]U_i, 1]}(t) - \\mathbb{1}_{[0,U_i]}(t+h) + \\mathbb{1}_{]U_i,1]}(t+h)) (\\mathbb{1}_{[0,U_j]}(t) - \\mathbb{1}_{]U_j, 1]}(t) - \\mathbb{1}_{[0,U_j]}(t+h) + \\mathbb{1}_{]U_j,1]}(t+h)) \\\\\n",
    "\\mathbb{E}((\\tilde{Z}_t^{(n)} - \\tilde{Z}_{t+h}^{(n)})^2)\n",
    "    &= \\frac{1}{n}\\sum_{i = 1}^n \\sum_{j=1}^n \\mathbb{E}(X_iX_j)\\mathbb{E} ((\\mathbb{1}_{[0,U_i]}(t) - \\mathbb{1}_{]U_i, 1]}(t) - \\mathbb{1}_{[0,U_i]}(t+h) + \\mathbb{1}_{]U_i,1]}(t+h)) (\\mathbb{1}_{[0,U_j]}(t) - \\mathbb{1}_{]U_j, 1]}(t) - \\mathbb{1}_{[0,U_j]}(t+h) + \\mathbb{1}_{]U_j,1]}(t+h)))\\\\\n",
    "    &= \\frac{1}{n} \\sum_{i=1}^n \\mathbb{E} ((\\mathbb{1}_{[0,U_i]}(t) - \\mathbb{1}_{]U_i, 1]}(t) - \\mathbb{1}_{[0,U_i]}(t+h) + \\mathbb{1}_{]U_i,1]}(t+h))^2) \\\\\n",
    "    &\\text{ car pour tous } i \\neq j, \\ \\mathbb{E}(X_iX_j) = \\mathbb{E}(X_i)\\mathbb{E}(X_j) = 0 \\text{ et } \\mathbb{E}(X_i^2) = 1 \\text{ (variance)} \\\\\n",
    "\\end{align*}\n",
    "\n",
    "Or $A_i(t,h) = \\mathbb{1}_{[0,U_i]}(t) - \\mathbb{1}_{]U_i, 1]}(t) - \\mathbb{1}_{[0,U_i]}(t+h) + \\mathbb{1}_{]U_i,1]}(t+h) = 2 \\times \\mathbb{1}_{[0, U_i]}(t) \\times \\mathbb{1}_{]U_i, 1]}(t+h)$.\n",
    "\n",
    "En effet, \n",
    "- si $t \\leq U_i$ :\n",
    "    - si $t+h \\leq U_i$ : alors $A_i(t,h) = 0$\n",
    "    - si $t+h > U_i$ : alors $A_i(t, h) = 2$\n",
    "- si $t > U_i$ alors $t+h>U_i$ donc $A_i(t,h)=0$.\n",
    "\n",
    "Donc :\n",
    "\n",
    "\\begin{align*}\n",
    "\\mathbb{E}((\\tilde{Z}_t^{(n)} - \\tilde{Z}_{t+h}^{(n)})^2)\n",
    "    &= \\frac{1}{n} \\sum_{i=1}^n \\mathbb{E}((2\\times\\mathbb{1}_{[0, U_i]}(t) \\times \\mathbb{1}_{]U_i, 1]}(t+h))^2) \\\\\n",
    "    &= \\frac{4}{n} \\sum_{i=1}^n \\mathbb{E}((\\mathbb{1}_{[0, U_i]}(t) \\times \\mathbb{1}_{]U_i, 1]}(t+h))^2) \\\\\n",
    "    &= \\frac{4}{n} \\sum_{i=1}^n \\mathbb{E}(\\mathbb{1}_{[0, U_i]}(t) \\times \\mathbb{1}_{]U_i, 1]}(t+h)) \\\\\n",
    "    &= \\frac{4}{n} \\sum_{i=1}^n \\mathbb{P}(U_i \\in [t, t+h[) \\\\\n",
    "    &= \\frac{4}{n} \\sum_{i=1}^n \\frac{t+h-t}{1-0}\\\\\n",
    "    &= 4h\n",
    "\\end{align*}\n",
    "\n",
    "Finalement : $$\\frac{1}{2} \\mathbb{E}((\\tilde{Z}_t^{(n)} - \\tilde{Z}_{t+h}^{(n)})^2) = 2h.$$"
   ]
  },
  {
   "cell_type": "markdown",
   "metadata": {},
   "source": [
    "**Question 4**\n",
    "\n",
    "Le vérifier expérimentalement en calculant $\\frac1{2\\text{card}\\{(i,j),|t_i-t_j|=h\\}}\\sum_{|t_i-t_j|=h}(\\tilde{Z}^{n}_{t_i} - \\tilde{Z}^{n}_{t_j})^2$, où $\\text{card}\\{(i,j),|t_i-t_j|=h\\}$ représente le nombre de couples $(t_i,t_j)$ distants de $h$, pour $h \\in \\{0.001,0.002,\\ldots,0.3\\}$. Représenter graphiquement cette quantité."
   ]
  },
  {
   "cell_type": "markdown",
   "metadata": {},
   "source": [
    "**Réponse 4**\n",
    "\n",
    "On note $A_h = \\{(i,j),|t_i-t_j|=h \\}$ et on calcule la quantité demandée avec $n=1000$.\n"
   ]
  },
  {
   "cell_type": "markdown",
   "metadata": {},
   "source": [
    "On remarque que $\\frac1{\\text{card}\\{(i,j),|t_i-t_j|=h\\}}\\sum_{|t_i-t_j|=h}(\\tilde{Z}^{n}_{t_i} - \\tilde{Z}^{n}_{t_j})^2$ représente une appr\n",
    "oximation expérimentale de l'espérance $\\mathbb{E}\\left((\\tilde{Z}^{(n)}_t-\\tilde{Z}^{(n)}_{t+h})^2\\right)$."
   ]
  },
  {
   "cell_type": "markdown",
   "metadata": {},
   "source": [
    "Soit $i \\in \\{1, ...n \\}$. $\\forall j \\in \\{1, ..., n \\}$ :  \n",
    "\\begin{align*}\n",
    "|t_i-t_j|=h &\\iff |i - j|=hn\\\\\n",
    "            &\\iff j = i+hn \\text{ ou } j = i-hn\n",
    "\\end{align*}"
   ]
  },
  {
   "cell_type": "markdown",
   "metadata": {},
   "source": [
    "Donc $A_h = \\{(i, i+hn), (i+hn, i) : i \\in \\{0,..., n(1-h)\\}\\}$."
   ]
  },
  {
   "cell_type": "markdown",
   "metadata": {},
   "source": [
    "\\begin{align*}\n",
    "\\frac1{\\text{card}\\{(i,j),|t_i-t_j|=h\\}}\\sum_{|t_i-t_j|=h}(\\tilde{Z}^{n}_{t_i} - \\tilde{Z}^{n}_{t_j})^2\\\\\n",
    "    &= \\frac{1}{\\text{card}(A_h)}\\sum_{(i,j) \\in A_h}(\\tilde{Z}^{n}_{\\frac{i}{n}} - \\tilde{Z}^{n}_{\\frac{j}{n}})^2\\\\\n",
    "    &= \\frac{1}{\\text{card}(A_h)}\\sum_{i \\in \\{ 0, ..., n(1-h) \\}}(\\tilde{Z}^{n}_{\\frac{i}{n}} - \\tilde{Z}^{n}_{\\frac{i + hn}{n}})^2 + (\\tilde{Z}^{n}_{\\frac{i+hn}{n}} - \\tilde{Z}^{n}_{\\frac{i}{n}})^2\\\\\n",
    "    &= \\frac{1}{2(n(1-h)+1)}\\sum_{i \\in \\{ 0, ..., n(1-h) \\}}2(\\tilde{Z}^{n}_{\\frac{i}{n}} - \\tilde{Z}^{n}_{\\frac{i+hn}{n}})^2\\\\\n",
    "    &= \\frac{1}{n(1-h)+1}\\sum_{i \\in \\{ 0, ..., n(1-h) \\}}(\\tilde{Z}^{n}_{\\frac{i}{n}} - \\tilde{Z}^{n}_{\\frac{i+hn}{n}})^2\n",
    "\\end{align*}"
   ]
  },
  {
   "cell_type": "code",
   "execution_count": 114,
   "metadata": {},
   "outputs": [
    {
     "data": {
      "image/png": "[encoded data removed]",
      "text/plain": [
       "<Figure size 432x288 with 1 Axes>"
      ]
     },
     "metadata": {
      "needs_background": "light"
     },
     "output_type": "display_data"
    }
   ],
   "source": [
    "n = 1_000\n",
    "H = np.arange(0.001, 0.301, 0.001)\n",
    "\n",
    "X = [X_i() for _ in range(n)] # liste des Xi\n",
    "U = [np.random.uniform() for _ in range(n)] # liste des Ui\n",
    "Z = [Z_tild(k/n, n, U, X) for k in range(n+1)]\n",
    "\n",
    "Q_data = []\n",
    "Q_theoric = [2*h for h in H]\n",
    "\n",
    "for h in H:\n",
    "    q = 0\n",
    "    A_h = []\n",
    "    card = 0\n",
    "    nh = int(n*h)\n",
    "    for i in range(n - nh + 1):\n",
    "        q += (Z[i] - Z[i + nh])**2\n",
    "        card += 1\n",
    "    q /= card\n",
    "    Q_data.append(q)\n",
    "\n",
    "plt.plot(H, Q_data, label = 'approximation expérimentale')\n",
    "plt.plot(H, Q_theoric, label = 'y = 2x')\n",
    "plt.legend()\n",
    "plt.show()"
   ]
  },
  {
   "cell_type": "code",
   "execution_count": null,
   "metadata": {},
   "outputs": [],
   "source": [
    "def verif(n, hmin, hmax, step):\n",
    "    T = np.arange(0, 1, hmin)\n",
    "    Z = Z = [Z_tild(t, n) for t in T]\n",
    "    H = np.arange(hmin, hmax, step)\n",
    "    values = np.empty(H.shape)\n",
    "    for index, h in enumerate(H):\n",
    "        cardinal = 0\n",
    "        somme = 0\n",
    "        pas = int(np.ceil(h/hmin))\n",
    "        for i in range(0, T.shape[0]-pas, pas):\n",
    "            cardinal += 2\n",
    "            somme += 2*(Z[i]-Z[i+pas])**2\n",
    "        values[index] = (1/(2*cardinal))*somme\n",
    "    plt.plot(H, values)\n",
    "    plt.show()"
   ]
  },
  {
   "cell_type": "code",
   "execution_count": null,
   "metadata": {},
   "outputs": [],
   "source": [
    "verif(1_000, 0.001, 0.301, 0.001)"
   ]
  },
  {
   "cell_type": "markdown",
   "metadata": {},
   "source": [
    "**Question 5**\n",
    "\n",
    "Décrire les différences et les similarités entre les deux approches."
   ]
  },
  {
   "cell_type": "markdown",
   "metadata": {},
   "source": [
    "**Réponse 5**\n"
   ]
  },
  {
   "cell_type": "markdown",
   "metadata": {},
   "source": [
    "# Génération de texture\n",
    "\n",
    "L'algorithme précédent présente la propriété d'être aisément généralisable aux dimensions supérieures, contrairement au premier. Nous allons maintenant construire pas à pas un algorithme pour simuler selon ce modèle sur le domaine $[-1, 1]^2$. Comme dans le cas 1D, on va procéder par séparations aléatoires du domaine. Pour ce faire, nous allons simuler des droites aléatoires, avec la paramétrisation suivante :\n",
    "$$x \\cos(\\alpha) + y \\sin(\\alpha) = p,$$\n",
    "où $x,y \\in [0,1]$ sont les coordonnées, $\\alpha \\sim \\mathcal{U}_{[0,\\pi]}$ est la variable d'*orientation*, $p \\sim \\mathcal{U}_{[-\\sqrt{2},\\sqrt{2}]}$ est la variable de *position*.\n",
    "\n",
    "On peut ainsi écrire la version 2D de $\\tilde{Z}$ de la manière suivante :\n",
    "$$\\tilde{Z}^{(n)}_{(x,y)} = \\frac{1}{\\sqrt{n}}\\sum_{i=1}^n X_i (1_{\\{x \\cos(\\alpha) + y \\sin(\\alpha) \\leq p\\}}-1_{\\{x \\cos(\\alpha) + y \\sin(\\alpha) > p\\}})$$\n",
    "\n",
    "1. Représenter 10 droites aléatoires sur le domaine $[-1, 1]^2$."
   ]
  },
  {
   "cell_type": "markdown",
   "metadata": {},
   "source": [
    "**Réponse**\n",
    "\n",
    "Si $\\alpha = 0$ ou $\\alpha = \\pi$, alors $sin(\\alpha) = 0$ donc la droite a pour équation $x = \\frac{p}{cos(\\alpha)}$.\n",
    "\n",
    "Sinon, la droite a pour équation $y = \\frac{p-xcos(\\alpha)}{sin(\\alpha)}$."
   ]
  },
  {
   "cell_type": "code",
   "execution_count": null,
   "metadata": {},
   "outputs": [],
   "source": [
    "def random_straight_line(n_grid=200):\n",
    "    alpha = np.random.uniform(0, np.pi)\n",
    "    p = np.random.uniform(-np.sqrt(2), np.sqrt(2))\n",
    "    if alpha == 0 or alpha == np.pi:\n",
    "        return [p/np.cos(alpha)]*50, np.linspace(-1, 1, n_grid), alpha, p\n",
    "    X_ = np.linspace(-1, 1, n_grid)\n",
    "    Y = []\n",
    "    X = []\n",
    "    for k in range(n_grid):\n",
    "        y = (p-X_[k]*np.cos(alpha))/np.sin(alpha)\n",
    "        if y>= -1 and y<=1:\n",
    "            Y.append(y)\n",
    "            X.append(X_[k])\n",
    "    return X, Y, alpha, p\n",
    "\n",
    "for _ in range(10):\n",
    "    X, Y, alpha, p = random_straight_line()\n",
    "    plt.plot(X, Y, label = f\"alpha = {alpha:.2f}, p = {p:.2f}\")\n",
    "    plt.legend(loc='center left', bbox_to_anchor=(1, 0.5))\n",
    "    plt.xlim(-1, 1)\n",
    "    plt.ylim(-1, 1)\n",
    "plt.show()"
   ]
  },
  {
   "cell_type": "markdown",
   "metadata": {},
   "source": [
    "2. L'étape suivante consiste à attribuer une valeur +1 ou -1 à chaque partie du domaine, délimitées par une droite aléatoire. Générer une droite aléatoire, puis assigner une valeur aléatoire +1 ou -1 en tous points d'une grille régulière de discrétisation du domaine $[-1,1]^2$ de dimensions 200x200 (voir **np.meshgrid** et **plt.pcolormesh**)."
   ]
  },
  {
   "cell_type": "code",
   "execution_count": null,
   "metadata": {},
   "outputs": [],
   "source": [
    "X, Y = np.meshgrid(np.linspace(-1, 1, 200), np.linspace(-1, 1, 200))\n",
    "\n",
    "def generate_grid(X, Y, n=200):\n",
    "    def f(x, y, alpha):\n",
    "        return x*np.cos(alpha) + y*np.sin(alpha)\n",
    "    x, y, alpha, p = random_straight_line()\n",
    "    Z = f(X, Y, alpha)\n",
    "    grid = np.ones((n,n))\n",
    "    grid[Z>p]=-1\n",
    "    return grid\n",
    "\n",
    "grid = generate_grid(X, Y)\n",
    "plt.pcolormesh(X, Y, grid)\n",
    "plt.colorbar()\n",
    "plt.show()"
   ]
  },
  {
   "cell_type": "markdown",
   "metadata": {},
   "source": [
    "3. Combiner les résultats des deux questions précédentes pour générer une réalisation de $\\tilde{Z}$ sur $[-1,1]^2$ pour $n = 100, 1000$ et $10000$ sur la même grille de discrétisation. Commenter. "
   ]
  },
  {
   "cell_type": "code",
   "execution_count": null,
   "metadata": {},
   "outputs": [],
   "source": [
    "X, Y = np.meshgrid(np.linspace(-1, 1, 200), np.linspace(-1, 1, 200))\n",
    "\n",
    "def generate_Z(X, Y, n=10_000, n_grid=200):\n",
    "    Z = np.zeros((n_grid, n_grid))\n",
    "    for _ in range(n):\n",
    "        Z += X_i()\n",
    "        Z = Z*generate_grid(X, Y, n_grid)\n",
    "    return Z\n",
    "\n",
    "for n in [100, 1_000, 10_000]:\n",
    "    Z = generate_Z(X, Y, n)\n",
    "    plt.pcolormesh(X, Y, Z)\n",
    "    plt.colorbar()\n",
    "    plt.title(f\"Réalisation de Z_tilde pour n={n}\")\n",
    "    plt.show()"
   ]
  },
  {
   "cell_type": "markdown",
   "metadata": {},
   "source": [
    "4. Calculer $\\frac1{2\\text{card}\\{(i,j),|t_i-t_j|=h\\}}\\sum_{|t_i-t_j|=h}(\\tilde{Z}^{n}_{t_i} - \\tilde{Z}^{n}_{t_j})^2$ pour $h \\in \\{0.001,0.002,\\ldots,0.3\\}$ le long des axes verticaux et horizontaux. Tracer le graphique correspondant. Commenter."
   ]
  },
  {
   "cell_type": "code",
   "execution_count": null,
   "metadata": {},
   "outputs": [],
   "source": [
    "def exp_mean(n, h, Z):\n",
    "    res = 0\n",
    "    count = 0\n",
    "    nh = int(n*h)\n",
    "    for i, j in product(range(n), range(n)):\n",
    "        if i + nh < n:\n",
    "            if j + nh < n:\n",
    "                res += (Z[i, j] - Z[i + nh, j + nh])**2\n",
    "                count += 1\n",
    "            if j - nh >= 0:\n",
    "                res += (Z[i, j] - Z[i + nh, j - nh])**2\n",
    "                count += 1\n",
    "        if i - nh >= 0:\n",
    "            if j + nh < n:\n",
    "                res += (Z[i, j] - Z[i - nh, j + nh])**2\n",
    "                count += 1\n",
    "            if j - nh >= 0:\n",
    "                res += (Z[i, j] - Z[i - nh, j - nh])**2\n",
    "                count += 1\n",
    "    return res/(2*count)\n",
    "            \n",
    "\n",
    "n = 200\n",
    "H = np.arange(0.001, 0.301, 0.001)\n",
    "Q_data = []\n",
    "X, Y = np.meshgrid(np.linspace(-1, 1, n), np.linspace(-1, 1, n))\n",
    "Z = generate_Z(X, Y, n, n_grid = n)\n",
    "for h in H:\n",
    "    Q_data.append(exp_mean(n, h, Z))\n",
    "plt.plot(H, Q_data, label = 'approximation expérimentale')\n",
    "plt.legend()\n",
    "plt.show()"
   ]
  },
  {
   "cell_type": "markdown",
   "metadata": {},
   "source": [
    "5. Générer une réalisation de $\\tilde{Z}$ sur $[-10,10]^2$. On prendra soin de modifier la loi des paramètres des droites aléatoires en conséquence. Commenter. "
   ]
  },
  {
   "cell_type": "markdown",
   "metadata": {},
   "source": [
    "**Réponse 5**\n",
    "\n",
    "Cette fois-ci, $x,y \\in [0,10]$, $\\alpha \\sim \\mathcal{U}_{[0,\\pi]}$ et $p \\sim \\mathcal{U}_{[-10\\sqrt{2}, 10\\sqrt{2}]}$."
   ]
  },
  {
   "cell_type": "code",
   "execution_count": null,
   "metadata": {},
   "outputs": [],
   "source": [
    "coeff = 10\n",
    "X, Y = np.meshgrid(np.linspace(-coeff, coeff, 200), np.linspace(-coeff, coeff, 200))\n",
    "def new_generate_Z(X, Y, n = 10_000, coeff = 10):\n",
    "    # on génère une droite aléatoire\n",
    "    def generate_random_right_line():\n",
    "        alpha = np.random.uniform(0, np.pi)\n",
    "        p = np.random.uniform(-coeff*np.sqrt(2), coeff*np.sqrt(2))\n",
    "        if alpha == 0 or alpha == np.pi:\n",
    "            return [p/np.cos(alpha)]*50, np.linspace(-coeff, coeff, 200), alpha, p\n",
    "        X_ = np.linspace(-coeff, coeff, 200)\n",
    "        Y = []\n",
    "        X = []\n",
    "        for k in range(200):\n",
    "            y = (p-X_[k]*np.cos(alpha))/np.sin(alpha)\n",
    "            if y>= -coeff and y<=coeff:\n",
    "                Y.append(y)\n",
    "                X.append(X_[k])\n",
    "        return X, Y, alpha, p\n",
    "    # on calcule la grille +1/-1\n",
    "    def grid(X, Y, coeff, n):\n",
    "        def f(x, y, alpha):\n",
    "            return x*np.cos(alpha) + y*np.sin(alpha)\n",
    "        x, y, alpha, p = generate_random_right_line()\n",
    "        Z = f(X, Y, alpha)\n",
    "        grid = np.ones((200, 200))\n",
    "        grid[Z>p] = -1\n",
    "        return grid\n",
    "    # on calcule Z_tilde\n",
    "    Z = np.zeros((200, 200))\n",
    "    for _ in range(n):\n",
    "        Z += X_i()\n",
    "        Z = Z*grid(X, Y, coeff, n)\n",
    "    return Z\n",
    "\n",
    "Z = new_generate_Z(X, Y)\n",
    "plt.pcolormesh(X, Y, Z)\n",
    "plt.colorbar()\n",
    "plt.title(f\"Réalisation de Z_tilde sur [-{coeff},{coeff}]x[-{coeff},{coeff}]\")\n",
    "plt.show()"
   ]
  },
  {
   "cell_type": "markdown",
   "metadata": {},
   "source": [
    "On observe un résultat visuel similaire à celui obtenu pour le domaine $[-1, 1]^2$. $\\tilde{Z}^{(n)}$ prend les mêmes valeurs."
   ]
  },
  {
   "cell_type": "markdown",
   "metadata": {},
   "source": [
    "6. Une généralisation à deux dimensions d'une discrétisation du mouvement brownien standard peut être définie de la manière suivante : notant $(x_i,y_i)$ les coordonnées des points de la grille de discrétisation du domaine $[0,1]^2$, le vecteur formé des $Z_{(x_i,y_i)}$ est gaussien, centré et de covariance $\\text{Cov} = \\min(x_i,x_j) \\times \\min(y_i,y_j)$. Proposer et implémenter un algorithme de simulation de ce modèle sur une grille régulière de discrétisation du domaine $[0,1]^2$. Quelles difficultés rencontrez-vous ?"
   ]
  },
  {
   "cell_type": "code",
   "execution_count": null,
   "metadata": {},
   "outputs": [],
   "source": []
  }
 ],
 "metadata": {
  "@webio": {
   "lastCommId": "5ceb69a5bbd14071b254c2439a58ac4b",
   "lastKernelId": "0e923419-c540-42c1-ab5f-d0e05ff4521c"
  },
  "interpreter": {
   "hash": "f522921533d2649179f334ac53b5b066697b613ca03abe8a39e886b5049f2d92"
  },
  "kernelspec": {
   "display_name": "Python 3 (ipykernel)",
   "language": "python",
   "name": "python3"
  },
  "language_info": {
   "codemirror_mode": {
    "name": "ipython",
    "version": 3
   },
   "file_extension": ".py",
   "mimetype": "text/x-python",
   "name": "python",
   "nbconvert_exporter": "python",
   "pygments_lexer": "ipython3",
   "version": "3.9.5"
  }
 },
 "nbformat": 4,
 "nbformat_minor": 2
}
